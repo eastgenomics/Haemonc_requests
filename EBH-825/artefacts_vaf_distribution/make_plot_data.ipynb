{
 "cells": [
  {
   "cell_type": "code",
   "execution_count": 16,
   "metadata": {},
   "outputs": [],
   "source": [
    "from string import Template\n",
    "\n",
    "import pandas as pd"
   ]
  },
  {
   "cell_type": "code",
   "execution_count": 4,
   "metadata": {},
   "outputs": [],
   "source": [
    "df = pd.read_csv(\"/home/jethro/Projects/Haemonc_requests/filtered_10_perc_all_variants.tsv\",\n",
    "sep=\"\\t\")"
   ]
  },
  {
   "cell_type": "code",
   "execution_count": 8,
   "metadata": {},
   "outputs": [],
   "source": [
    "# build title string from columns\n",
    "df['title'] = df['gene'] + ' (' + df['HGVSc'] + ')' + '<br>' + df['chr'] + \\\n",
    "    ':' + df['pos'].astype(str) + '-' + df['ref'] + '-' + df['alt']"
   ]
  },
  {
   "cell_type": "code",
   "execution_count": 9,
   "metadata": {},
   "outputs": [],
   "source": [
    "# add counts of each vaf for each variant\n",
    "df[\"count\"] = 1\n",
    "df2 = df.groupby([\"title\", \"vaf\"])[\"count\"].count().reset_index()\n"
   ]
  },
  {
   "cell_type": "code",
   "execution_count": 10,
   "metadata": {},
   "outputs": [],
   "source": [
    "# build a list of the data for the plots\n",
    "data = []\n",
    "\n",
    "for var in df2['title'].unique().tolist():\n",
    "    rows = df2[df2['title'] == var]\n",
    "\n",
    "    vafs = ','.join(rows['vaf'].astype(str).tolist())\n",
    "    counts = ','.join(rows['count'].astype(str).tolist())\n",
    "\n",
    "    var_data = ','.join([var, counts, vafs])\n",
    "\n",
    "    var_data = f'<div class=\"sub_plot\">{var_data}</div>'\n",
    "\n",
    "    data.append([var, var_data])\n"
   ]
  },
  {
   "cell_type": "code",
   "execution_count": 29,
   "metadata": {},
   "outputs": [],
   "source": [
    "# read in the template and parse data in\n",
    "import os\n",
    "os.listdir()\n",
    "with open(\"template.html\", 'r') as template:\n",
    "    html_template = template.read()\n",
    "\n",
    "t = Template(html_template)\n",
    "html_string = t.safe_substitute(DATA_ARRAY=data)\n",
    "\n",
    "with open(\"variant_vaf_plots.html\", \"w\") as f:\n",
    "    f.write(html_string)"
   ]
  }
 ],
 "metadata": {
  "interpreter": {
   "hash": "916dbcbb3f70747c44a77c7bcd40155683ae19c65e1c03b4aa3499c5328201f1"
  },
  "kernelspec": {
   "display_name": "Python 3.8.10 64-bit",
   "language": "python",
   "name": "python3"
  },
  "language_info": {
   "codemirror_mode": {
    "name": "ipython",
    "version": 3
   },
   "file_extension": ".py",
   "mimetype": "text/x-python",
   "name": "python",
   "nbconvert_exporter": "python",
   "pygments_lexer": "ipython3",
   "version": "3.8.10"
  },
  "orig_nbformat": 4
 },
 "nbformat": 4,
 "nbformat_minor": 2
}
