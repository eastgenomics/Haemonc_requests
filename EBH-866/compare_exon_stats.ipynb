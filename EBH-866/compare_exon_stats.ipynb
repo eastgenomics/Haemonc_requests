{
 "cells": [
  {
   "cell_type": "code",
   "execution_count": 2,
   "metadata": {},
   "outputs": [],
   "source": [
    "import os\n",
    "import sys\n",
    "\n",
    "import matplotlib.pyplot as plt\n",
    "from matplotlib.backends.backend_pdf import PdfPages\n",
    "import pandas as pd\n"
   ]
  },
  {
   "cell_type": "code",
   "execution_count": 13,
   "metadata": {},
   "outputs": [],
   "source": [
    "# path to dir of exon tsvs\n",
    "tsv_dir = '/home/jethro/Projects/small_things/new_capture_run2/tsvs'\n",
    "\n",
    "# names for output files\n",
    "per_gene_pdf = 'run2_old_vs_new_coverage_downsampled_per_gene.pdf'\n",
    "per_level_pdf = 'run2_old_vs_new_coverage_downsampled_per_level_.pdf'\n",
    "all_stats_tsv = 'run2_old_vs_new_coverage_stats.tsv'"
   ]
  },
  {
   "cell_type": "code",
   "execution_count": 9,
   "metadata": {},
   "outputs": [],
   "source": [
    "old_df = pd.DataFrame()\n",
    "new_df = pd.DataFrame()\n",
    "\n",
    "old = 0\n",
    "new = 0\n",
    "\n",
    "for file in os.listdir(tsv_dir):\n",
    "    # read in files to 2 dfs, old -1-, new -2-\n",
    "    name = '-'.join(file.split('-')[:2])\n",
    "    df = pd.read_csv(os.path.join(tsv_dir, file), delimiter='\\t')\n",
    "\n",
    "    if '-1-' in file:\n",
    "        df.columns = [f\"{x}_old\" for x in df.columns.tolist()]\n",
    "        df['name'] = name\n",
    "        old_df = old_df.append(df)\n",
    "        old += 1\n",
    "    elif '-2-' in file:\n",
    "        df.columns = [f\"{x}_new\" for x in df.columns.tolist()]\n",
    "        df['name'] = name\n",
    "        new_df = new_df.append(df)\n",
    "        new+=1\n",
    "    else:\n",
    "        # something shouldn't be here\n",
    "        print(f\"File not recognised: {file}\")\n",
    "        sys.exit()\n",
    "\n",
    "old_df.rename(columns={'gene_old': 'gene', 'exon_old': 'exon'}, inplace=True)\n",
    "new_df.rename(columns={'gene_new': 'gene', 'exon_new': 'exon'}, inplace=True)\n"
   ]
  },
  {
   "cell_type": "code",
   "execution_count": 15,
   "metadata": {},
   "outputs": [
    {
     "name": "stderr",
     "output_type": "stream",
     "text": [
      "/home/jethro/.local/lib/python3.8/site-packages/pandas/core/frame.py:9190: FutureWarning: Passing 'suffixes' which cause duplicate columns {'min_old_x'} in the result is deprecated and will raise a MergeError in a future version.\n",
      "  return merge(\n",
      "/home/jethro/.local/lib/python3.8/site-packages/pandas/core/frame.py:9190: FutureWarning: Passing 'suffixes' which cause duplicate columns {'min_new_x'} in the result is deprecated and will raise a MergeError in a future version.\n",
      "  return merge(\n",
      "/home/jethro/.local/lib/python3.8/site-packages/pandas/core/frame.py:9190: FutureWarning: Passing 'suffixes' which cause duplicate columns {'mean_old_x'} in the result is deprecated and will raise a MergeError in a future version.\n",
      "  return merge(\n",
      "/home/jethro/.local/lib/python3.8/site-packages/pandas/core/frame.py:9190: FutureWarning: Passing 'suffixes' which cause duplicate columns {'mean_new_x'} in the result is deprecated and will raise a MergeError in a future version.\n",
      "  return merge(\n",
      "/home/jethro/.local/lib/python3.8/site-packages/pandas/core/frame.py:9190: FutureWarning: Passing 'suffixes' which cause duplicate columns {'max_old_x'} in the result is deprecated and will raise a MergeError in a future version.\n",
      "  return merge(\n",
      "/home/jethro/.local/lib/python3.8/site-packages/pandas/core/frame.py:9190: FutureWarning: Passing 'suffixes' which cause duplicate columns {'max_new_x'} in the result is deprecated and will raise a MergeError in a future version.\n",
      "  return merge(\n",
      "/home/jethro/.local/lib/python3.8/site-packages/pandas/core/frame.py:9190: FutureWarning: Passing 'suffixes' which cause duplicate columns {'100x_old_x'} in the result is deprecated and will raise a MergeError in a future version.\n",
      "  return merge(\n",
      "/home/jethro/.local/lib/python3.8/site-packages/pandas/core/frame.py:9190: FutureWarning: Passing 'suffixes' which cause duplicate columns {'100x_new_x'} in the result is deprecated and will raise a MergeError in a future version.\n",
      "  return merge(\n",
      "/home/jethro/.local/lib/python3.8/site-packages/pandas/core/frame.py:9190: FutureWarning: Passing 'suffixes' which cause duplicate columns {'250x_old_x'} in the result is deprecated and will raise a MergeError in a future version.\n",
      "  return merge(\n",
      "/home/jethro/.local/lib/python3.8/site-packages/pandas/core/frame.py:9190: FutureWarning: Passing 'suffixes' which cause duplicate columns {'250x_new_x'} in the result is deprecated and will raise a MergeError in a future version.\n",
      "  return merge(\n",
      "/home/jethro/.local/lib/python3.8/site-packages/pandas/core/frame.py:9190: FutureWarning: Passing 'suffixes' which cause duplicate columns {'500x_old_x'} in the result is deprecated and will raise a MergeError in a future version.\n",
      "  return merge(\n",
      "/home/jethro/.local/lib/python3.8/site-packages/pandas/core/frame.py:9190: FutureWarning: Passing 'suffixes' which cause duplicate columns {'500x_new_x'} in the result is deprecated and will raise a MergeError in a future version.\n",
      "  return merge(\n",
      "/home/jethro/.local/lib/python3.8/site-packages/pandas/core/frame.py:9190: FutureWarning: Passing 'suffixes' which cause duplicate columns {'1000x_old_x'} in the result is deprecated and will raise a MergeError in a future version.\n",
      "  return merge(\n",
      "/home/jethro/.local/lib/python3.8/site-packages/pandas/core/frame.py:9190: FutureWarning: Passing 'suffixes' which cause duplicate columns {'1000x_new_x'} in the result is deprecated and will raise a MergeError in a future version.\n",
      "  return merge(\n",
      "/home/jethro/.local/lib/python3.8/site-packages/pandas/core/frame.py:9190: FutureWarning: Passing 'suffixes' which cause duplicate columns {'1500x_old_x'} in the result is deprecated and will raise a MergeError in a future version.\n",
      "  return merge(\n",
      "/home/jethro/.local/lib/python3.8/site-packages/pandas/core/frame.py:9190: FutureWarning: Passing 'suffixes' which cause duplicate columns {'1500x_new_x'} in the result is deprecated and will raise a MergeError in a future version.\n",
      "  return merge(\n",
      "/tmp/ipykernel_312944/4010778708.py:19: RuntimeWarning: More than 20 figures have been opened. Figures created through the pyplot interface (`matplotlib.pyplot.figure`) are retained until explicitly closed and may consume too much memory. (To control this warning, see the rcParam `figure.max_open_warning`).\n",
      "  fig, axs = plt.subplots(4,2)\n"
     ]
    },
    {
     "data": {
      "text/plain": [
       "<Figure size 432x1080 with 0 Axes>"
      ]
     },
     "metadata": {},
     "output_type": "display_data"
    },
    {
     "data": {
      "text/plain": [
       "<Figure size 432x1080 with 0 Axes>"
      ]
     },
     "metadata": {},
     "output_type": "display_data"
    },
    {
     "data": {
      "text/plain": [
       "<Figure size 432x1080 with 0 Axes>"
      ]
     },
     "metadata": {},
     "output_type": "display_data"
    },
    {
     "data": {
      "text/plain": [
       "<Figure size 432x1080 with 0 Axes>"
      ]
     },
     "metadata": {},
     "output_type": "display_data"
    },
    {
     "data": {
      "text/plain": [
       "<Figure size 432x1080 with 0 Axes>"
      ]
     },
     "metadata": {},
     "output_type": "display_data"
    },
    {
     "data": {
      "text/plain": [
       "<Figure size 432x1080 with 0 Axes>"
      ]
     },
     "metadata": {},
     "output_type": "display_data"
    },
    {
     "data": {
      "text/plain": [
       "<Figure size 432x1080 with 0 Axes>"
      ]
     },
     "metadata": {},
     "output_type": "display_data"
    },
    {
     "data": {
      "text/plain": [
       "<Figure size 432x1080 with 0 Axes>"
      ]
     },
     "metadata": {},
     "output_type": "display_data"
    },
    {
     "data": {
      "text/plain": [
       "<Figure size 432x1080 with 0 Axes>"
      ]
     },
     "metadata": {},
     "output_type": "display_data"
    },
    {
     "data": {
      "text/plain": [
       "<Figure size 432x1080 with 0 Axes>"
      ]
     },
     "metadata": {},
     "output_type": "display_data"
    },
    {
     "data": {
      "text/plain": [
       "<Figure size 432x1080 with 0 Axes>"
      ]
     },
     "metadata": {},
     "output_type": "display_data"
    },
    {
     "data": {
      "text/plain": [
       "<Figure size 432x1080 with 0 Axes>"
      ]
     },
     "metadata": {},
     "output_type": "display_data"
    },
    {
     "data": {
      "text/plain": [
       "<Figure size 432x1080 with 0 Axes>"
      ]
     },
     "metadata": {},
     "output_type": "display_data"
    },
    {
     "data": {
      "text/plain": [
       "<Figure size 432x1080 with 0 Axes>"
      ]
     },
     "metadata": {},
     "output_type": "display_data"
    },
    {
     "data": {
      "text/plain": [
       "<Figure size 432x1080 with 0 Axes>"
      ]
     },
     "metadata": {},
     "output_type": "display_data"
    },
    {
     "data": {
      "text/plain": [
       "<Figure size 432x1080 with 0 Axes>"
      ]
     },
     "metadata": {},
     "output_type": "display_data"
    },
    {
     "data": {
      "text/plain": [
       "<Figure size 432x1080 with 0 Axes>"
      ]
     },
     "metadata": {},
     "output_type": "display_data"
    },
    {
     "data": {
      "text/plain": [
       "<Figure size 432x1080 with 0 Axes>"
      ]
     },
     "metadata": {},
     "output_type": "display_data"
    },
    {
     "data": {
      "text/plain": [
       "<Figure size 432x1080 with 0 Axes>"
      ]
     },
     "metadata": {},
     "output_type": "display_data"
    },
    {
     "data": {
      "text/plain": [
       "<Figure size 432x1080 with 0 Axes>"
      ]
     },
     "metadata": {},
     "output_type": "display_data"
    },
    {
     "data": {
      "text/plain": [
       "<Figure size 432x1080 with 0 Axes>"
      ]
     },
     "metadata": {},
     "output_type": "display_data"
    },
    {
     "data": {
      "text/plain": [
       "<Figure size 432x1080 with 0 Axes>"
      ]
     },
     "metadata": {},
     "output_type": "display_data"
    },
    {
     "data": {
      "text/plain": [
       "<Figure size 432x1080 with 0 Axes>"
      ]
     },
     "metadata": {},
     "output_type": "display_data"
    },
    {
     "data": {
      "text/plain": [
       "<Figure size 432x1080 with 0 Axes>"
      ]
     },
     "metadata": {},
     "output_type": "display_data"
    },
    {
     "data": {
      "text/plain": [
       "<Figure size 432x1080 with 0 Axes>"
      ]
     },
     "metadata": {},
     "output_type": "display_data"
    },
    {
     "data": {
      "text/plain": [
       "<Figure size 432x1080 with 0 Axes>"
      ]
     },
     "metadata": {},
     "output_type": "display_data"
    },
    {
     "data": {
      "text/plain": [
       "<Figure size 432x1080 with 0 Axes>"
      ]
     },
     "metadata": {},
     "output_type": "display_data"
    },
    {
     "data": {
      "text/plain": [
       "<Figure size 432x1080 with 0 Axes>"
      ]
     },
     "metadata": {},
     "output_type": "display_data"
    },
    {
     "data": {
      "text/plain": [
       "<Figure size 432x1080 with 0 Axes>"
      ]
     },
     "metadata": {},
     "output_type": "display_data"
    },
    {
     "data": {
      "text/plain": [
       "<Figure size 432x1080 with 0 Axes>"
      ]
     },
     "metadata": {},
     "output_type": "display_data"
    },
    {
     "data": {
      "text/plain": [
       "<Figure size 432x1080 with 0 Axes>"
      ]
     },
     "metadata": {},
     "output_type": "display_data"
    },
    {
     "data": {
      "text/plain": [
       "<Figure size 432x1080 with 0 Axes>"
      ]
     },
     "metadata": {},
     "output_type": "display_data"
    },
    {
     "data": {
      "text/plain": [
       "<Figure size 432x1080 with 0 Axes>"
      ]
     },
     "metadata": {},
     "output_type": "display_data"
    },
    {
     "data": {
      "text/plain": [
       "<Figure size 432x1080 with 0 Axes>"
      ]
     },
     "metadata": {},
     "output_type": "display_data"
    },
    {
     "data": {
      "text/plain": [
       "<Figure size 432x1080 with 0 Axes>"
      ]
     },
     "metadata": {},
     "output_type": "display_data"
    },
    {
     "data": {
      "text/plain": [
       "<Figure size 432x1080 with 0 Axes>"
      ]
     },
     "metadata": {},
     "output_type": "display_data"
    },
    {
     "data": {
      "text/plain": [
       "<Figure size 432x1080 with 0 Axes>"
      ]
     },
     "metadata": {},
     "output_type": "display_data"
    },
    {
     "data": {
      "text/plain": [
       "<Figure size 432x1080 with 0 Axes>"
      ]
     },
     "metadata": {},
     "output_type": "display_data"
    },
    {
     "data": {
      "text/plain": [
       "<Figure size 432x1080 with 0 Axes>"
      ]
     },
     "metadata": {},
     "output_type": "display_data"
    },
    {
     "data": {
      "text/plain": [
       "<Figure size 432x1080 with 0 Axes>"
      ]
     },
     "metadata": {},
     "output_type": "display_data"
    },
    {
     "data": {
      "text/plain": [
       "<Figure size 432x1080 with 0 Axes>"
      ]
     },
     "metadata": {},
     "output_type": "display_data"
    },
    {
     "data": {
      "text/plain": [
       "<Figure size 432x1080 with 0 Axes>"
      ]
     },
     "metadata": {},
     "output_type": "display_data"
    },
    {
     "data": {
      "text/plain": [
       "<Figure size 432x1080 with 0 Axes>"
      ]
     },
     "metadata": {},
     "output_type": "display_data"
    },
    {
     "data": {
      "text/plain": [
       "<Figure size 432x1080 with 0 Axes>"
      ]
     },
     "metadata": {},
     "output_type": "display_data"
    },
    {
     "data": {
      "text/plain": [
       "<Figure size 432x1080 with 0 Axes>"
      ]
     },
     "metadata": {},
     "output_type": "display_data"
    },
    {
     "data": {
      "text/plain": [
       "<Figure size 432x1080 with 0 Axes>"
      ]
     },
     "metadata": {},
     "output_type": "display_data"
    },
    {
     "data": {
      "text/plain": [
       "<Figure size 432x1080 with 0 Axes>"
      ]
     },
     "metadata": {},
     "output_type": "display_data"
    },
    {
     "data": {
      "text/plain": [
       "<Figure size 432x1080 with 0 Axes>"
      ]
     },
     "metadata": {},
     "output_type": "display_data"
    },
    {
     "data": {
      "text/plain": [
       "<Figure size 432x1080 with 0 Axes>"
      ]
     },
     "metadata": {},
     "output_type": "display_data"
    },
    {
     "data": {
      "text/plain": [
       "<Figure size 432x1080 with 0 Axes>"
      ]
     },
     "metadata": {},
     "output_type": "display_data"
    },
    {
     "data": {
      "text/plain": [
       "<Figure size 432x1080 with 0 Axes>"
      ]
     },
     "metadata": {},
     "output_type": "display_data"
    },
    {
     "data": {
      "text/plain": [
       "<Figure size 432x1080 with 0 Axes>"
      ]
     },
     "metadata": {},
     "output_type": "display_data"
    },
    {
     "data": {
      "text/plain": [
       "<Figure size 432x1080 with 0 Axes>"
      ]
     },
     "metadata": {},
     "output_type": "display_data"
    },
    {
     "data": {
      "text/plain": [
       "<Figure size 432x1080 with 0 Axes>"
      ]
     },
     "metadata": {},
     "output_type": "display_data"
    },
    {
     "data": {
      "text/plain": [
       "<Figure size 432x1080 with 0 Axes>"
      ]
     },
     "metadata": {},
     "output_type": "display_data"
    },
    {
     "data": {
      "text/plain": [
       "<Figure size 432x1080 with 0 Axes>"
      ]
     },
     "metadata": {},
     "output_type": "display_data"
    },
    {
     "data": {
      "text/plain": [
       "<Figure size 432x1080 with 0 Axes>"
      ]
     },
     "metadata": {},
     "output_type": "display_data"
    },
    {
     "data": {
      "text/plain": [
       "<Figure size 432x1080 with 0 Axes>"
      ]
     },
     "metadata": {},
     "output_type": "display_data"
    },
    {
     "data": {
      "text/plain": [
       "<Figure size 432x1080 with 0 Axes>"
      ]
     },
     "metadata": {},
     "output_type": "display_data"
    },
    {
     "data": {
      "text/plain": [
       "<Figure size 432x1080 with 0 Axes>"
      ]
     },
     "metadata": {},
     "output_type": "display_data"
    }
   ],
   "source": [
    "\n",
    "# generate pdf of plots, one set of each level per gene\n",
    "\n",
    "columns = [\n",
    "    'min', 'mean', 'max', '100x', '250x', '500x', '1000x', '1500x'\n",
    "]\n",
    "\n",
    "genes = sorted(list(set(old_df['gene'].tolist())))\n",
    "\n",
    "# df to store all columns in to write to tsv file\n",
    "full_merge = old_df[['name', 'gene', 'exon']]\n",
    "\n",
    "# create a PdfPages object\n",
    "pdf = PdfPages(per_gene_pdf)\n",
    "\n",
    "for gene in genes:\n",
    "    # each gene, plot each coverage level (min, mean, max..)\n",
    "    # and add set as new page\n",
    "\n",
    "    fig, axs = plt.subplots(4,2)\n",
    "    fig.set_figheight(15)\n",
    "    fig.tight_layout(pad=4)\n",
    "\n",
    "    idx = 0\n",
    "    col_no = 0\n",
    "\n",
    "    # mapping of index to where in 2x4 grid to place plot\n",
    "    pos  = {\n",
    "        0: (0,0),\n",
    "        1: (0,1),\n",
    "        2: (1,0),\n",
    "        3: (1,1),\n",
    "        4: (2,0),\n",
    "        5: (2,1),\n",
    "        6: (3,0),\n",
    "        7: (3,1)\n",
    "    }\n",
    "\n",
    "    for idx, col in enumerate(columns):\n",
    "\n",
    "        # get just the current column data from both full dfs\n",
    "        old_tmp = old_df[['name', 'gene', 'exon', f'{col}_old']]\n",
    "        new_tmp = new_df[['name', 'gene', 'exon', f'{col}_new']]\n",
    "\n",
    "        # filter both for just current gene\n",
    "        old_tmp = old_tmp[old_tmp['gene'] == gene]\n",
    "        new_tmp = new_tmp[new_tmp['gene'] == gene]\n",
    "\n",
    "        combined_df = old_tmp.merge(new_tmp, on = ['name', 'gene', 'exon'])\n",
    "\n",
    "        # add to full merged df to tsv write to file at end\n",
    "        full_merge = full_merge.merge(old_tmp, on = ['name', 'gene', 'exon'])\n",
    "        full_merge = full_merge.merge(new_tmp, on = ['name', 'gene', 'exon'])\n",
    "\n",
    "        # do the plotting\n",
    "        axs[pos[idx][0], pos[idx][1]].scatter(\n",
    "            combined_df[f'{col}_old'], combined_df[f'{col}_new'], s=8)\n",
    "\n",
    "        axs[pos[idx][0], pos[idx][1]].set_title(f\"{gene} - {col} \")\n",
    "        axs[pos[idx][0], pos[idx][1]].set_ylabel('new')\n",
    "        axs[pos[idx][0], pos[idx][1]].set_xlabel('old')\n",
    "\n",
    "        # add an x=y line\n",
    "        axs[pos[idx][0], pos[idx][1]].axline([0, 0], [1, 1])\n",
    "\n",
    "        # set axis limits\n",
    "        max_val = max(combined_df[[f'{col}_old', f'{col}_new']].max().tolist()) * 1.01\n",
    "        axs[pos[idx][0], pos[idx][1]].set_ylim(-1, max_val)\n",
    "        axs[pos[idx][0], pos[idx][1]].set_xlim(-1, max_val)\n",
    "\n",
    "        idx += 1\n",
    "        col_no += 1\n",
    "\n",
    "    pdf.savefig(fig)\n",
    "    plt.clf()\n",
    "\n",
    "pdf.close()\n"
   ]
  },
  {
   "cell_type": "code",
   "execution_count": 14,
   "metadata": {},
   "outputs": [
    {
     "name": "stdout",
     "output_type": "stream",
     "text": [
      "Plotting for min (plot) 0\n",
      "Plotting for mean (plot) 1\n",
      "Plotting for max (plot) 2\n",
      "Plotting for 100x (plot) 3\n",
      "Plotting for 250x (plot) 4\n",
      "Plotting for 500x (plot) 5\n",
      "Plotting for 1000x (plot) 6\n",
      "Plotting for 1500x (plot) 7\n"
     ]
    },
    {
     "data": {
      "text/plain": [
       "<Figure size 432x3600 with 0 Axes>"
      ]
     },
     "metadata": {},
     "output_type": "display_data"
    }
   ],
   "source": [
    "# generate pdf of plots, one per column (i.e. all genes on one plot)\n",
    "columns = [\n",
    "    'min', 'mean', 'max', '100x', '250x', '500x', '1000x', '1500x'\n",
    "]\n",
    "\n",
    "# df to store all columns in to write to tsv file\n",
    "full_merge = old_df[['name', 'gene', 'exon']]\n",
    "\n",
    "# create a PdfPages object\n",
    "pdf = PdfPages(per_level_pdf)\n",
    "\n",
    "fig, axs = plt.subplots(8)\n",
    "fig.set_figheight(50)\n",
    "fig.tight_layout(pad=4)\n",
    "\n",
    "\n",
    "for idx, col in enumerate(columns):\n",
    "    # each gene, plot each coverage level (min, mean, max..)\n",
    "    # and add set as new page\n",
    "    print(f\"Plotting for {col} (plot) {idx}\")\n",
    "    old_tmp = old_df[['name', 'gene', 'exon', f'{col}_old']]\n",
    "    new_tmp = new_df[['name', 'gene', 'exon', f'{col}_new']]\n",
    "\n",
    "    combined_df = old_tmp.merge(new_tmp, on = ['name', 'gene', 'exon'])\n",
    "\n",
    "    # add to full df to write to tsv file at end\n",
    "    full_merge = full_merge.merge(old_tmp, on = ['name', 'gene', 'exon'])\n",
    "    full_merge = full_merge.merge(new_tmp, on = ['name', 'gene', 'exon'])\n",
    "\n",
    "    # plot\n",
    "    axs[idx].scatter(combined_df[f'{col}_old'], combined_df[f'{col}_new'], s=8)\n",
    "    axs[idx].axline([0, 0], [1, 1], color='black', linewidth=1)\n",
    "    axs[idx].set_title(f\"{col}\")\n",
    "    axs[idx].set_ylabel('new')\n",
    "    axs[idx].set_xlabel('old')\n",
    "\n",
    "    # get the max value of all points to make plot fit nicely\n",
    "    max_val = max(combined_df[[f'{col}_old', f'{col}_new']].max().tolist()) * 1.01\n",
    "    axs[idx].set_ylim(-1, max_val)\n",
    "    axs[idx].set_xlim(-1, max_val)\n",
    "\n",
    "\n",
    "pdf.savefig(fig)\n",
    "plt.clf()\n",
    "pdf.close()\n",
    "\n",
    "# write values to tsv file\n",
    "full_merge.to_csv(all_stats_tsv, sep='\\t')"
   ]
  },
  {
   "cell_type": "markdown",
   "metadata": {},
   "source": []
  }
 ],
 "metadata": {
  "interpreter": {
   "hash": "916dbcbb3f70747c44a77c7bcd40155683ae19c65e1c03b4aa3499c5328201f1"
  },
  "kernelspec": {
   "display_name": "Python 3.8.10 64-bit",
   "language": "python",
   "name": "python3"
  },
  "language_info": {
   "codemirror_mode": {
    "name": "ipython",
    "version": 3
   },
   "file_extension": ".py",
   "mimetype": "text/x-python",
   "name": "python",
   "nbconvert_exporter": "python",
   "pygments_lexer": "ipython3",
   "version": "3.8.10"
  },
  "orig_nbformat": 4
 },
 "nbformat": 4,
 "nbformat_minor": 2
}
